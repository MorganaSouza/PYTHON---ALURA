{
 "cells": [
  {
   "cell_type": "code",
   "execution_count": null,
   "metadata": {},
   "outputs": [],
   "source": [
    "Claro, vou fazer um resumo da aula utilizando exemplos de como usar as principais funções relacionadas a listas e tuplas.Nesta aula, aprendemos sobre as diferenças entre listas e tuplas:Listas:\n",
    "São mutáveis, ou seja, podem ter elementos adicionados, removidos ou alterados.\n",
    "Geralmente contêm elementos do mesmo tipo.\n",
    "Podem ser acessadas por índice, como lista[0] para acessar o primeiro elemento.\n",
    "Podem usar métodos como lista.append(elemento) para adicionar um novo elemento.\n",
    "\n",
    "Exemplo de lista:\n",
    "                 \n",
    "                    \n",
    "                        ini\n",
    "                        \n",
    "                            Copiar código\n",
    "                        \n",
    "                    \n",
    "                    \n",
    "                        contas = [conta_do_gui, conta_da_dani]\n",
    "                    \n",
    "                \n",
    "        Tuplas:\n",
    "São imutáveis, ou seja, não podem ter elementos adicionados, removidos ou alterados após a criação.\n",
    "Podem conter elementos de tipos diferentes.\n",
    "São acessadas por índice, assim como as listas.\n",
    "Não possuem métodos para modificação, como append().\n",
    "\n",
    "Exemplo de tupla:\n",
    "                 \n",
    "                    \n",
    "                        ini\n",
    "                        \n",
    "                            Copiar código\n",
    "                        \n",
    "                    \n",
    "                    \n",
    "                        guilherme = ('Guilherme', 37, 1981)\n",
    "daniela = ('Daniela', 31, 1987)\n",
    "                    \n",
    "                \n",
    "        Quando usar listas ou tuplas:\n",
    "Listas são indicadas quando você precisa de uma sequência de elementos do mesmo tipo, com a possibilidade de modificá-los.\n",
    "Tuplas são indicadas quando você precisa representar um conjunto de valores imutáveis, onde a posição de cada elemento tem um significado específico.\n",
    "\n",
    "Além disso, a aula abordou a diferença entre programação orientada a objetos (usando classes) e programação funcional (usando funções separadas dos dados), mostrando que ambas as abordagens podem ser úteis em diferentes situações.O importante é entender as características de listas e tuplas e escolher a estrutura de dados mais adequada para cada caso."
   ]
  }
 ],
 "metadata": {
  "language_info": {
   "name": "python"
  }
 },
 "nbformat": 4,
 "nbformat_minor": 2
}

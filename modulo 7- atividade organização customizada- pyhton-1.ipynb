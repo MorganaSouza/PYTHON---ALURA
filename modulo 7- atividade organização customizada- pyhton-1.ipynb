{
 "cells": [
  {
   "cell_type": "code",
   "execution_count": null,
   "metadata": {},
   "outputs": [],
   "source": [
    "#atividade modulo 7\n",
    "\n",
    "Estamos desenvolvendo um projeto para o banco digital Bytebank que trabalha com contas salário. Na nossa classe de conta salário, implementamos os seguintes métodos :\n",
    "\n",
    "class ContaSalario:\n",
    "  def __init__(self,codigo):\n",
    "    self._codigo = codigo\n",
    "    self._saldo = 0\n",
    "\n",
    "  def __eq__(self,outro):\n",
    "    if(type(outro) != ContaSalario):\n",
    "      return False\n",
    "    return self._codigo == outro._codigo and self._saldo == outro._saldo\n",
    "\n",
    "  def deposita(self, valor):\n",
    "    self._saldo += valor\n",
    "  def __str__(self):\n",
    "    return \"[>>> codigo: {} Saldo: {}]\".format(self._codigo, self._saldo)\n",
    "COPIAR CÓDIGO\n",
    "Nenhum desses métodos retorna o saldo da conta salário e sabemos que, para manter as boas práticas, não podemos acessar diretamente o atributo da classe para obter o saldo que precisamos.\n",
    "\n",
    "Qual é a melhor maneira para se obter o saldo?\n",
    "\n",
    "Temos que importar o attrgetter e passar o valor do saldo por parâmetro key=attrgetter(\"_saldo\").\n",
    "\n",
    "\n",
    "Quando importamos o attrgetter, temos que passar a chave do valor que queremos, pois assim não acessamos o atributo diretamente.\n",
    "\n",
    "\n",
    "Olá, estudante! Vamos analisar as opções apresentadas e entender qual é a melhor maneira de obter o saldo da conta salário.A alternativa correta é a opção A:\"Temos que importar o attrgetter e passar o valor do saldo por parâmetro key=attrgetter(\"_saldo\").\"Aqui está a explicação:Você está correto em dizer que não devemos acessar diretamente o atributo _saldo da classe ContaSalario, pois isso quebraria o encapsulamento. Em vez disso, a melhor abordagem é utilizar a função attrgetter do módulo operator para obter o valor do saldo.A função attrgetter permite que você crie uma função que extrai um atributo específico de um objeto. Dessa forma, você pode passar essa função como parâmetro key para métodos como sorted() e min(), que irão utilizar essa função para determinar a ordenação ou comparação dos objetos.Então, a opção A é a correta, pois é a maneira mais adequada de obter o saldo da conta salário, mantendo as boas práticas de encapsulamento.As outras opções não são as melhores soluções:\n",
    "Opção B: Criar uma função extrai_saldo(conta) que retorna o saldo da conta não é a melhor abordagem, pois você ainda estaria acessando diretamente o atributo _saldo, quebrando o encapsulamento.\n",
    "Opção C: Retornar o saldo diretamente no método __init__ também não é uma boa prática, pois o método __init__ deve ser responsável apenas pela inicialização do objeto, e não pela obtenção de informações.\n",
    "\n",
    "Portanto, a melhor maneira de obter o saldo da conta salário é utilizando a função attrgetter, conforme explicado na opção A.Espero que essa explicação tenha ajudado a esclarecer a melhor abordagem para esse exercício. Se você tiver mais dúvidas, sinta-se à vontade para perguntar."
   ]
  }
 ],
 "metadata": {
  "language_info": {
   "name": "python"
  }
 },
 "nbformat": 4,
 "nbformat_minor": 2
}

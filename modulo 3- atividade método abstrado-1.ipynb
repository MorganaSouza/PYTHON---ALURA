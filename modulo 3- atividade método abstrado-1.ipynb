{
 "cells": [
  {
   "cell_type": "code",
   "execution_count": null,
   "metadata": {},
   "outputs": [],
   "source": [
    "Olá Mayra, entendo que você está com dúvidas sobre como criar um array numérico em Python utilizando a biblioteca arr. Vou tentar explicar de uma forma mais simples:Para criar um array em Python, você precisa especificar o tipo de dados que ele irá conter. Isso é importante porque os arrays em Python são homogêneos, ou seja, eles só podem armazenar elementos do mesmo tipo.Quando você cria um array usando a biblioteca arr, você precisa informar o tipo de dado que ele irá conter. Alguns dos tipos mais comuns são:\n",
    "'i' para inteiros\n",
    "'f' para números de ponto flutuante (decimais)\n",
    "'u' para inteiros sem sinal\n",
    "\n",
    "Então, por exemplo, se você quiser criar um array para armazenar as notas dos clientes, que são números, você poderia fazer algo como:\n",
    "                 \n",
    "                    \n",
    "                        java\n",
    "                        \n",
    "                            Copiar código\n",
    "                        \n",
    "                    \n",
    "                    \n",
    "                        import arr\n",
    "\n",
    "notas = arr.array('f', [5.0, 4.5, 3.8, 4.2])\n",
    "                    \n",
    "                \n",
    "        Nesse caso, estamos criando um array do tipo 'f' (float) e passando uma lista de notas como valores iniciais.A principal vantagem de usar um array em vez de uma lista é que os arrays ocupam menos espaço na memória, pois eles armazenam apenas um tipo de dado. Isso pode ser importante quando você está trabalhando com grandes quantidades de dados.Espero que essa explicação tenha ajudado a esclarecer as características da criação de arrays em Python. Se você tiver mais dúvidas, fique à vontade para perguntar."
   ]
  }
 ],
 "metadata": {
  "language_info": {
   "name": "python"
  }
 },
 "nbformat": 4,
 "nbformat_minor": 2
}

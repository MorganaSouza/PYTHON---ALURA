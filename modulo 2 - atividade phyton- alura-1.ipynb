{
 "cells": [
  {
   "cell_type": "code",
   "execution_count": null,
   "metadata": {},
   "outputs": [],
   "source": [
    "# atividade \n",
    "\n",
    "Estamos estudando tuplas e listas. Temos um conjunto de dados que nos foi dado e precisamos adicionar cada conjunto em seu devido lugar. Os dados desses conjuntos são o saldo e agência bancária (o valor de agência bancária é imutável):\n",
    "\n",
    "agencia = [10, 22, 33, 44]\n",
    "\n",
    "saldo =  [1000, 2000, 3000, 4000]COPIAR CÓDIGO\n",
    "Qual a melhor forma de declarar cada um desses valores?\n",
    "\n",
    "resposta= Utilizando tupla e lista agencia = (10,22,33,44) saldo = [1000,2000,3000,4000]\n",
    "\n",
    "\n",
    "Usando a tupla para que o valor da nossa agência seja imutável. E deixar o saldo como lista pois podemos ter aumento ou diminuição do saldo ao longo do tempo.\n",
    "\n",
    "O que aprendemos nesta aula:\n",
    "\n",
    "Criar uma classe e métodos;\n",
    "Criar uma lista de referência para objetos;\n",
    "Lidar com referências;\n",
    "O que é uma tupla;\n",
    "Fazer tupla de listas;\n",
    "Diferença entre programação orientada a objetos e funcional;\n",
    "Fazer uma lista de tuplas."
   ]
  }
 ],
 "metadata": {
  "language_info": {
   "name": "python"
  }
 },
 "nbformat": 4,
 "nbformat_minor": 2
}

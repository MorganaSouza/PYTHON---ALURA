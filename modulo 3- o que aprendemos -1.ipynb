{
 "cells": [
  {
   "cell_type": "code",
   "execution_count": null,
   "metadata": {},
   "outputs": [],
   "source": [
    "#o que aprendemos no modulo 3\n",
    "\n",
    "\n",
    "Herança e Polimorfismo:\n",
    "Herança: Permite que uma classe (classe filha) herde atributos e métodos de outra classe (classe pai). Exemplo: class ContaCorrente(Conta) herda da classe Conta.\n",
    "Polimorfismo: Permite que objetos de classes diferentes respondam de forma diferente ao mesmo método. Exemplo: ContaCorrente e ContaPoupanca têm implementações diferentes do método passa_o_mes().\n",
    "\n",
    "\n",
    "Herdar Classe:\n",
    "Em Python, você pode criar uma nova classe que herda de uma classe existente usando a sintaxe class NovaCLasse(ClassePai).\n",
    "Isso permite que a nova classe herde atributos e métodos da classe pai, podendo também adicionar novos ou sobrescrever os herdados.\n",
    "\n",
    "\n",
    "Duck Typing:\n",
    "É um conceito em Python que diz que o tipo de um objeto é determinado pelo que ele pode fazer, não pelo que ele é.\n",
    "Isso significa que, em Python, você pode chamar um método em um objeto sem se preocupar com o tipo desse objeto, desde que ele tenha o método que você está chamando.\n",
    "\n",
    "\n",
    "Criar Array em Python:\n",
    "Em Python, você pode criar arrays usando a biblioteca array.array().\n",
    "Para criar um array, você precisa especificar o tipo de dados que ele irá conter, como 'i' para inteiros, 'f' para floats, etc.\n",
    "Exemplo: import array; numeros = array.array('i', [1, 2, 3, 4, 5]).\n",
    "\n",
    "\n",
    "Anotações:\n",
    "Anotações em Python são uma forma de adicionar metadados a variáveis, funções, classes, etc.\n",
    "Elas são definidas usando a sintaxe variavel: tipo ou def funcao(param: tipo) -> tipo_retorno:.\n",
    "Exemplo: def somar(a: int, b: int) -> int: return a + b.\n",
    "\n",
    "\n",
    "\n"
   ]
  }
 ],
 "metadata": {
  "language_info": {
   "name": "python"
  }
 },
 "nbformat": 4,
 "nbformat_minor": 2
}

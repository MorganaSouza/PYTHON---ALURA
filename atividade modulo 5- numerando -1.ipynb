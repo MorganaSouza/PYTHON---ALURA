{
 "cells": [
  {
   "cell_type": "code",
   "execution_count": null,
   "metadata": {},
   "outputs": [],
   "source": [
    "#atividade modulo 5 - Numerando\n",
    "\n",
    "\n",
    "\n",
    "Gabriela está revisando um código em Python que contém uma lista de idades, que está percorrendo esta lista e mostrando o índice e a idade:\n",
    "\n",
    "idades = [15,87,37,45,56,32,49,37]\n",
    "for i in range(len(idades)):\n",
    "    print(i,idades[i])\n",
    "COPIAR CÓDIGO\n",
    "Este código faz a numeração da idade e a põe um index ao lado de cada idade, mas isto é muito trabalhoso de se fazer.\n",
    "\n",
    "Como o código pode ser melhorado, de modo a facilitar a implementação?\n",
    "\n",
    "resposta = Utilizando o enumerate para percorrer nossa lista e numerar cada valor.\n",
    "\n",
    "\n",
    "Quando utilizamos o enumerate, ele faz a enumeração dos valores automaticamente, assim evitaremos código a mais."
   ]
  }
 ],
 "metadata": {
  "language_info": {
   "name": "python"
  }
 },
 "nbformat": 4,
 "nbformat_minor": 2
}

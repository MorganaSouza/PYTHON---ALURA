{
 "cells": [
  {
   "cell_type": "code",
   "execution_count": null,
   "metadata": {},
   "outputs": [],
   "source": [
    "#atividade igualdade e método __eq__\n",
    "\n",
    "No banco onde Guilherme trabalha está acontecendo um problema: está acontecendo a comparação de duas contas com os mesmos atributos. Observe o seguinte código:\n",
    "\n",
    "conta_do_gui = ContaCorrente(15)\n",
    "\n",
    "conta_da_dani = ContaCorrente(15)\n",
    "\n",
    "if(conta_do_gui == conta_da_dani):\n",
    "    print(“São iguais”)\n",
    "else:\n",
    "    print(“São diferentes”)\n",
    "COPIAR CÓDIGO\n",
    "Quando fazemos a comparação com o if, está retornando False, quando deveria retornar True.\n",
    "\n",
    "O que Guilherme pode fazer para que o retorno seja True?\n",
    "\n",
    "resposta= Implementar o método eq, onde comparamos o que está vindo como parâmetro ao invés do objeto inteiro.\n",
    "\n",
    "\n",
    "Com o método eq podemos fazer a comparação que desejamos.\n",
    "\n"
   ]
  }
 ],
 "metadata": {
  "language_info": {
   "name": "python"
  }
 },
 "nbformat": 4,
 "nbformat_minor": 2
}

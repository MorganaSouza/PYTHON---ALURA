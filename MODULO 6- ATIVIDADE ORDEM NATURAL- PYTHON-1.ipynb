{
 "cells": [
  {
   "cell_type": "code",
   "execution_count": null,
   "metadata": {},
   "outputs": [],
   "source": [
    "#ATIVIDADE MODULO 6 ORDEM NATURAL \n",
    "\n",
    "Conforme foi passado na aula, aprendemos a ordenar a lista usando idades.sort(). Porém, podemos não querer alterar a lista original, mas visualizar os valores da lista em ordem crescente.\n",
    "\n",
    "idades = [12,90,1,8,10,25,32,31,40,50]COPIAR CÓDIGO\n",
    "Como podemos fazer isso com Python?\n",
    "\n",
    "RESPOSTA = Utilizaremos o sorted para retornar uma nova lista ordenada: sorted(idades).\n",
    "\n",
    "\n",
    "Exatamente! Caso utilizássemos o idades.sort(), a lista original seria alterada, pois esse comando, além de ordenar, atribui o valor à lista original.\n",
    "\n",
    "A resposta correta é a alternativa B:Utilizaremos o sorted para retornar uma nova lista ordenada: sorted(idades).Isso porque, conforme explicado na aula, o método sort() altera a lista original, ordenando-a no local. Já o sorted() retorna uma nova lista ordenada, sem modificar a lista original.Neste caso, se você não quiser alterar a lista original idades, a melhor opção é usar o sorted(idades), que irá retornar uma nova lista com os valores ordenados em ordem crescente, deixando a lista original idades inalterada.Então, a alternativa correta é a B, pois o sorted(idades) irá retornar uma nova lista ordenada, sem modificar a lista original idades.\n",
    "\n"
   ]
  }
 ],
 "metadata": {
  "language_info": {
   "name": "python"
  }
 },
 "nbformat": 4,
 "nbformat_minor": 2
}

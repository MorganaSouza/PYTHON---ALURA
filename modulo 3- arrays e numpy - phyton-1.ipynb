{
 "cells": [
  {
   "cell_type": "code",
   "execution_count": null,
   "metadata": {},
   "outputs": [],
   "source": [
    "Aqui está um resumo da aula com exemplos de como usar as funções mencionadas:Nesta aula, o instrutor abordou o uso de arrays em Python. Ele explicou que, embora o Python tenha um tipo \"array\" nativo, é mais comum utilizar a biblioteca Numpy para trabalhar com arrays de forma mais eficiente.Para usar o Numpy, primeiro é necessário importá-lo:\n",
    "                 \n",
    "                    \n",
    "                        javascript\n",
    "                        \n",
    "                            Copiar código\n",
    "                        \n",
    "                    \n",
    "                    \n",
    "                        import numpy as np\n",
    "                    \n",
    "                \n",
    "        Depois, podemos criar um array Numpy a partir de uma lista:\n",
    "                 \n",
    "                    \n",
    "                        php\n",
    "                        \n",
    "                            Copiar código\n",
    "                        \n",
    "                    \n",
    "                    \n",
    "                        numeros = np.array([1, 3.5])\n",
    "print(numeros)\n",
    "# Output: [1.0 3.5]\n",
    "                    \n",
    "                \n",
    "        Observe que o Numpy converte automaticamente os valores da lista para o tipo adequado (neste caso, números de ponto flutuante).Com o array Numpy, podemos realizar operações matemáticas de forma otimizada. Por exemplo, para somar 3 a todos os elementos:\n",
    "                 \n",
    "                    \n",
    "                        bash\n",
    "                        \n",
    "                            Copiar código\n",
    "                        \n",
    "                    \n",
    "                    \n",
    "                        numeros_somados = numeros + 3\n",
    "print(numeros_somados)\n",
    "# Output: [4.0 6.5]\n",
    "                    \n",
    "                \n",
    "        Essa operação é realizada de forma eficiente pelo Numpy, diferente do que seria feito com uma lista Python padrão.O instrutor também mencionou que o uso do Numpy é muito comum em áreas como Data Science, Engenharia Científica e Programação Científica, onde é necessário um alto desempenho em operações com arrays e matrizes.Portanto, a recomendação é utilizar o Numpy ao invés do array nativo do Python quando for necessário trabalhar com arrays de forma mais eficiente e otimizada."
   ]
  }
 ],
 "metadata": {
  "language_info": {
   "name": "python"
  }
 },
 "nbformat": 4,
 "nbformat_minor": 2
}

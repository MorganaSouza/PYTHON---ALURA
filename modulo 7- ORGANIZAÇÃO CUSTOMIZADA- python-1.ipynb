{
 "cells": [
  {
   "cell_type": "code",
   "execution_count": null,
   "metadata": {},
   "outputs": [],
   "source": [
    "#ORGANIZAÇÃO CUSTOMIZADA\n",
    "\n",
    "Claro, vou resumir a aula sobre ordenação customizada de objetos sem ordem natural, usando os exemplos apresentados:Nesta aula, aprendemos que quando temos objetos que não possuem uma ordem natural, como as instâncias da classe ContaSalario, não podemos simplesmente usar as funções sort() ou sorted() para ordená-los, pois elas precisam de uma forma de comparar os objetos.O professor Guilherme mostrou alguns caminhos para resolver esse problema:\n",
    "Criar uma função extrai_saldo que retorna o saldo da conta, e usar essa função como a key do sorted():\n",
    "\n",
    "\n",
    "                 \n",
    "                    \n",
    "                        python\n",
    "                        \n",
    "                            Copiar código\n",
    "                        \n",
    "                    \n",
    "                    \n",
    "                        def extrai_saldo(conta):\n",
    "    return conta._saldo\n",
    "\n",
    "sorted(contas, key=extrai_saldo)\n",
    "                    \n",
    "                \n",
    "        Porém, essa abordagem não é ideal, pois acessa diretamente um atributo privado da classe.\n",
    "Usar a função attrgetter do módulo operator para acessar o atributo _saldo sem precisar criar uma função:\n",
    "\n",
    "\n",
    "                 \n",
    "                    \n",
    "                        python\n",
    "                        \n",
    "                            Copiar código\n",
    "                        \n",
    "                    \n",
    "                    \n",
    "                        from operator import attrgetter\n",
    "\n",
    "sorted(contas, key=attrgetter(\"_saldo\"))\n",
    "                    \n",
    "                \n",
    "        Essa abordagem é melhor, pois não expõe o atributo privado diretamente.Mas o professor ainda não ficou satisfeito, pois mesmo usando attrgetter, ainda estamos acessando um atributo privado da classe ContaSalario. Ele mencionou que, no próximo passo, veremos uma abordagem que mantém o encapsulamento da classe e permite ordenar os objetos sem expor detalhes internos.Então, o resumo é que, quando temos objetos sem ordem natural, podemos usar funções ou o attrgetter como a key do sorted() para ordená-los de acordo com um critério específico, mas devemos tomar cuidado para não violar o encapsulamento da classe."
   ]
  }
 ],
 "metadata": {
  "language_info": {
   "name": "python"
  }
 },
 "nbformat": 4,
 "nbformat_minor": 2
}
